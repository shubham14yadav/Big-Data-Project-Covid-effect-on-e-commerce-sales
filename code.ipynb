{
 "cells": [
  {
   "cell_type": "code",
   "execution_count": 1,
   "id": "548053fe",
   "metadata": {},
   "outputs": [],
   "source": [
    "import findspark\n",
    "findspark.init()"
   ]
  },
  {
   "cell_type": "code",
   "execution_count": 2,
   "id": "6984c6a7",
   "metadata": {},
   "outputs": [],
   "source": [
    "import pyspark\n",
    "from pyspark.sql import SparkSession"
   ]
  },
  {
   "cell_type": "code",
   "execution_count": 3,
   "id": "966de898",
   "metadata": {},
   "outputs": [
    {
     "name": "stderr",
     "output_type": "stream",
     "text": [
      "2022-11-20 13:09:46,764 WARN util.Utils: Your hostname, keerthana-VirtualBox resolves to a loopback address: 127.0.1.1; using 10.0.2.15 instead (on interface enp0s3)\n",
      "2022-11-20 13:09:46,766 WARN util.Utils: Set SPARK_LOCAL_IP if you need to bind to another address\n",
      "WARNING: An illegal reflective access operation has occurred\n",
      "WARNING: Illegal reflective access by org.apache.spark.unsafe.Platform (file:/usr/share/spark/jars/spark-unsafe_2.12-3.2.2.jar) to constructor java.nio.DirectByteBuffer(long,int)\n",
      "WARNING: Please consider reporting this to the maintainers of org.apache.spark.unsafe.Platform\n",
      "WARNING: Use --illegal-access=warn to enable warnings of further illegal reflective access operations\n",
      "WARNING: All illegal access operations will be denied in a future release\n",
      "Setting default log level to \"WARN\".\n",
      "To adjust logging level use sc.setLogLevel(newLevel). For SparkR, use setLogLevel(newLevel).\n",
      "2022-11-20 13:09:48,180 WARN util.NativeCodeLoader: Unable to load native-hadoop library for your platform... using builtin-java classes where applicable\n"
     ]
    }
   ],
   "source": [
    "spark = SparkSession.builder.getOrCreate()"
   ]
  },
  {
   "cell_type": "code",
   "execution_count": 5,
   "id": "8d48aaaa",
   "metadata": {},
   "outputs": [
    {
     "name": "stdout",
     "output_type": "stream",
     "text": [
      "root\n",
      " |-- event_time: string (nullable = true)\n",
      " |-- event_type: string (nullable = true)\n",
      " |-- product_id: string (nullable = true)\n",
      " |-- category_id: string (nullable = true)\n",
      " |-- category_code: string (nullable = true)\n",
      " |-- brand: string (nullable = true)\n",
      " |-- price: string (nullable = true)\n",
      " |-- user_id: string (nullable = true)\n",
      " |-- user_session: string (nullable = true)\n",
      "\n",
      "+--------------------+----------+----------+-------------------+-------------+------+-----+---------+--------------------+\n",
      "|          event_time|event_type|product_id|        category_id|category_code| brand|price|  user_id|        user_session|\n",
      "+--------------------+----------+----------+-------------------+-------------+------+-----+---------+--------------------+\n",
      "|2019-10-01 00:00:...|      cart|   5773203|1487580005134238553|         null|runail| 2.62|463240011|26dd6e6e-4dac-477...|\n",
      "|2019-10-01 00:00:...|      cart|   5773353|1487580005134238553|         null|runail| 2.62|463240011|26dd6e6e-4dac-477...|\n",
      "|2019-10-01 00:00:...|      cart|   5881589|2151191071051219817|         null|lovely|13.48|429681830|49e8d843-adf3-428...|\n",
      "|2019-10-01 00:00:...|      cart|   5723490|1487580005134238553|         null|runail| 2.62|463240011|26dd6e6e-4dac-477...|\n",
      "|2019-10-01 00:00:...|      cart|   5881449|1487580013522845895|         null|lovely| 0.56|429681830|49e8d843-adf3-428...|\n",
      "+--------------------+----------+----------+-------------------+-------------+------+-----+---------+--------------------+\n",
      "only showing top 5 rows\n",
      "\n",
      "root\n",
      " |-- event_time: string (nullable = true)\n",
      " |-- event_type: string (nullable = true)\n",
      " |-- product_id: integer (nullable = true)\n",
      " |-- category_id: string (nullable = true)\n",
      " |-- category_code: string (nullable = true)\n",
      " |-- brand: string (nullable = true)\n",
      " |-- price: float (nullable = true)\n",
      " |-- user_id: string (nullable = true)\n",
      " |-- user_session: string (nullable = true)\n",
      "\n",
      "+----------+----------+----------+-------------------+-------------+------+-----+---------+--------------------+\n",
      "|event_time|event_type|product_id|        category_id|category_code| brand|price|  user_id|        user_session|\n",
      "+----------+----------+----------+-------------------+-------------+------+-----+---------+--------------------+\n",
      "|2019-10-01|      cart|   5773203|1487580005134238553|         null|runail| 2.62|463240011|26dd6e6e-4dac-477...|\n",
      "|2019-10-01|      cart|   5773353|1487580005134238553|         null|runail| 2.62|463240011|26dd6e6e-4dac-477...|\n",
      "|2019-10-01|      cart|   5881589|2151191071051219817|         null|lovely|13.48|429681830|49e8d843-adf3-428...|\n",
      "|2019-10-01|      cart|   5723490|1487580005134238553|         null|runail| 2.62|463240011|26dd6e6e-4dac-477...|\n",
      "|2019-10-01|      cart|   5881449|1487580013522845895|         null|lovely| 0.56|429681830|49e8d843-adf3-428...|\n",
      "+----------+----------+----------+-------------------+-------------+------+-----+---------+--------------------+\n",
      "only showing top 5 rows\n",
      "\n"
     ]
    }
   ],
   "source": [
    "#Ecommerce October 2019 Data\n",
    "ecom_oct_df=spark.read.load(\"file:///home/Shubham/Downloads/Project/Datasets/ecom_oct_2019.csv\",format=\"csv\",header=\"true\",escape=\"\\\"\")\n",
    "ecom_oct_df.printSchema()\n",
    "ecom_oct_df.show(5)\n",
    "\n",
    "from pyspark.sql.types import StringType, DateType, FloatType, IntegerType\n",
    "ecom_oct_df = ecom_oct_df.withColumn(\"product_id\", ecom_oct_df[\"product_id\"].cast(IntegerType())).withColumn(\"price\", ecom_oct_df[\"price\"].cast(FloatType()))\n",
    "ecom_oct_df.printSchema()\n",
    "\n",
    "from pyspark.sql.functions import *\n",
    "ecom_oct_df_1 = ecom_oct_df.withColumn(\"event_time\",to_date(\"event_time\"))\n",
    "ecom_oct_df_1.show(5)"
   ]
  },
  {
   "cell_type": "code",
   "execution_count": 6,
   "id": "c2028f75",
   "metadata": {},
   "outputs": [
    {
     "name": "stdout",
     "output_type": "stream",
     "text": [
      "root\n",
      " |-- event_time: string (nullable = true)\n",
      " |-- event_type: string (nullable = true)\n",
      " |-- product_id: string (nullable = true)\n",
      " |-- category_id: string (nullable = true)\n",
      " |-- category_code: string (nullable = true)\n",
      " |-- brand: string (nullable = true)\n",
      " |-- price: string (nullable = true)\n",
      " |-- user_id: string (nullable = true)\n",
      " |-- user_session: string (nullable = true)\n",
      "\n",
      "+--------------------+----------------+----------+-------------------+-------------+--------+-----+---------+--------------------+\n",
      "|          event_time|      event_type|product_id|        category_id|category_code|   brand|price|  user_id|        user_session|\n",
      "+--------------------+----------------+----------+-------------------+-------------+--------+-----+---------+--------------------+\n",
      "|2019-11-01 00:00:...|            view|   5802432|1487580009286598681|         null|    null| 0.32|562076640|09fafd6c-6c99-46b...|\n",
      "|2019-11-01 00:00:...|            cart|   5844397|1487580006317032337|         null|    null| 2.38|553329724|2067216c-31b5-455...|\n",
      "|2019-11-01 00:00:...|            view|   5837166|1783999064103190764|         null|     pnb|22.22|556138645|57ed222e-a54a-490...|\n",
      "|2019-11-01 00:00:...|            cart|   5876812|1487580010100293687|         null|jessnail| 3.16|564506666|186c1951-8052-4b3...|\n",
      "|2019-11-01 00:00:...|remove_from_cart|   5826182|1487580007483048900|         null|    null| 3.33|553329724|2067216c-31b5-455...|\n",
      "+--------------------+----------------+----------+-------------------+-------------+--------+-----+---------+--------------------+\n",
      "only showing top 5 rows\n",
      "\n",
      "root\n",
      " |-- event_time: string (nullable = true)\n",
      " |-- event_type: string (nullable = true)\n",
      " |-- product_id: integer (nullable = true)\n",
      " |-- category_id: string (nullable = true)\n",
      " |-- category_code: string (nullable = true)\n",
      " |-- brand: string (nullable = true)\n",
      " |-- price: float (nullable = true)\n",
      " |-- user_id: string (nullable = true)\n",
      " |-- user_session: string (nullable = true)\n",
      "\n",
      "+----------+----------------+----------+-------------------+-------------+--------+-----+---------+--------------------+\n",
      "|event_time|      event_type|product_id|        category_id|category_code|   brand|price|  user_id|        user_session|\n",
      "+----------+----------------+----------+-------------------+-------------+--------+-----+---------+--------------------+\n",
      "|2019-11-01|            view|   5802432|1487580009286598681|         null|    null| 0.32|562076640|09fafd6c-6c99-46b...|\n",
      "|2019-11-01|            cart|   5844397|1487580006317032337|         null|    null| 2.38|553329724|2067216c-31b5-455...|\n",
      "|2019-11-01|            view|   5837166|1783999064103190764|         null|     pnb|22.22|556138645|57ed222e-a54a-490...|\n",
      "|2019-11-01|            cart|   5876812|1487580010100293687|         null|jessnail| 3.16|564506666|186c1951-8052-4b3...|\n",
      "|2019-11-01|remove_from_cart|   5826182|1487580007483048900|         null|    null| 3.33|553329724|2067216c-31b5-455...|\n",
      "+----------+----------------+----------+-------------------+-------------+--------+-----+---------+--------------------+\n",
      "only showing top 5 rows\n",
      "\n"
     ]
    }
   ],
   "source": [
    "#Ecommerce November 2019 Data\n",
    "ecom_nov_df=spark.read.load(\"file:///home/Shubham/Downloads/Project/Datasets/ecom_nov_2019.csv\",format=\"csv\",header=\"true\",escape=\"\\\"\")\n",
    "ecom_nov_df.printSchema()\n",
    "ecom_nov_df.show(5)\n",
    "\n",
    "from pyspark.sql.types import StringType, DateType, FloatType, IntegerType\n",
    "ecom_nov_df = ecom_nov_df.withColumn(\"product_id\", ecom_nov_df[\"product_id\"].cast(IntegerType())).withColumn(\"price\", ecom_nov_df[\"price\"].cast(FloatType()))\n",
    "ecom_nov_df.printSchema()\n",
    "\n",
    "from pyspark.sql.functions import *\n",
    "ecom_nov_df_1 = ecom_nov_df.withColumn(\"event_time\",to_date(\"event_time\"))\n",
    "ecom_nov_df_1.show(5)"
   ]
  },
  {
   "cell_type": "code",
   "execution_count": 7,
   "id": "c00eee91",
   "metadata": {},
   "outputs": [
    {
     "name": "stdout",
     "output_type": "stream",
     "text": [
      "root\n",
      " |-- event_time: string (nullable = true)\n",
      " |-- event_type: string (nullable = true)\n",
      " |-- product_id: string (nullable = true)\n",
      " |-- category_id: string (nullable = true)\n",
      " |-- category_code: string (nullable = true)\n",
      " |-- brand: string (nullable = true)\n",
      " |-- price: string (nullable = true)\n",
      " |-- user_id: string (nullable = true)\n",
      " |-- user_session: string (nullable = true)\n",
      "\n",
      "+--------------------+----------------+----------+-------------------+-------------+---------+-----+---------+--------------------+\n",
      "|          event_time|      event_type|product_id|        category_id|category_code|    brand|price|  user_id|        user_session|\n",
      "+--------------------+----------------+----------+-------------------+-------------+---------+-----+---------+--------------------+\n",
      "|2019-12-01 00:00:...|remove_from_cart|   5712790|1487580005268456287|         null|    f.o.x| 6.27|576802932|51d85cb0-897f-48d...|\n",
      "|2019-12-01 00:00:...|            view|   5764655|1487580005411062629|         null|      cnd|29.05|412120092|8adff31e-2051-489...|\n",
      "|2019-12-01 00:00:...|            cart|      4958|1487580009471148064|         null|   runail| 1.19|494077766|c99a50e8-2fac-4c4...|\n",
      "|2019-12-01 00:00:...|            view|   5848413|1487580007675986893|         null|freedecor| 0.79|348405118|722ffea5-73c0-492...|\n",
      "|2019-12-01 00:00:...|            view|   5824148|1487580005511725929|         null|     null| 5.56|576005683|28172809-7e4a-45c...|\n",
      "+--------------------+----------------+----------+-------------------+-------------+---------+-----+---------+--------------------+\n",
      "only showing top 5 rows\n",
      "\n",
      "root\n",
      " |-- event_time: string (nullable = true)\n",
      " |-- event_type: string (nullable = true)\n",
      " |-- product_id: integer (nullable = true)\n",
      " |-- category_id: string (nullable = true)\n",
      " |-- category_code: string (nullable = true)\n",
      " |-- brand: string (nullable = true)\n",
      " |-- price: float (nullable = true)\n",
      " |-- user_id: string (nullable = true)\n",
      " |-- user_session: string (nullable = true)\n",
      "\n",
      "+----------+----------------+----------+-------------------+-------------+---------+-----+---------+--------------------+\n",
      "|event_time|      event_type|product_id|        category_id|category_code|    brand|price|  user_id|        user_session|\n",
      "+----------+----------------+----------+-------------------+-------------+---------+-----+---------+--------------------+\n",
      "|2019-12-01|remove_from_cart|   5712790|1487580005268456287|         null|    f.o.x| 6.27|576802932|51d85cb0-897f-48d...|\n",
      "|2019-12-01|            view|   5764655|1487580005411062629|         null|      cnd|29.05|412120092|8adff31e-2051-489...|\n",
      "|2019-12-01|            cart|      4958|1487580009471148064|         null|   runail| 1.19|494077766|c99a50e8-2fac-4c4...|\n",
      "|2019-12-01|            view|   5848413|1487580007675986893|         null|freedecor| 0.79|348405118|722ffea5-73c0-492...|\n",
      "|2019-12-01|            view|   5824148|1487580005511725929|         null|     null| 5.56|576005683|28172809-7e4a-45c...|\n",
      "+----------+----------------+----------+-------------------+-------------+---------+-----+---------+--------------------+\n",
      "only showing top 5 rows\n",
      "\n"
     ]
    }
   ],
   "source": [
    "#Ecommerce December 2019 Data\n",
    "ecom_dec_df=spark.read.load(\"file:///home/Shubham/Downloads/Project/Datasets/ecom_dec_2019.csv\",format=\"csv\",header=\"true\",escape=\"\\\"\")\n",
    "ecom_dec_df.printSchema()\n",
    "ecom_dec_df.show(5)\n",
    "\n",
    "from pyspark.sql.types import StringType, DateType, FloatType, IntegerType\n",
    "ecom_dec_df = ecom_dec_df.withColumn(\"product_id\", ecom_dec_df[\"product_id\"].cast(IntegerType())).withColumn(\"price\", ecom_dec_df[\"price\"].cast(FloatType()))\n",
    "ecom_dec_df.printSchema()\n",
    "\n",
    "from pyspark.sql.functions import *\n",
    "ecom_dec_df_1 = ecom_dec_df.withColumn(\"event_time\",to_date(\"event_time\"))\n",
    "ecom_dec_df_1.show(5)"
   ]
  },
  {
   "cell_type": "code",
   "execution_count": 8,
   "id": "b5024756",
   "metadata": {},
   "outputs": [
    {
     "name": "stdout",
     "output_type": "stream",
     "text": [
      "root\n",
      " |-- event_time: string (nullable = true)\n",
      " |-- event_type: string (nullable = true)\n",
      " |-- product_id: string (nullable = true)\n",
      " |-- category_id: string (nullable = true)\n",
      " |-- category_code: string (nullable = true)\n",
      " |-- brand: string (nullable = true)\n",
      " |-- price: string (nullable = true)\n",
      " |-- user_id: string (nullable = true)\n",
      " |-- user_session: string (nullable = true)\n",
      "\n",
      "+--------------------+----------+----------+-------------------+-------------+--------+-----+---------+--------------------+\n",
      "|          event_time|event_type|product_id|        category_id|category_code|   brand|price|  user_id|        user_session|\n",
      "+--------------------+----------+----------+-------------------+-------------+--------+-----+---------+--------------------+\n",
      "|2020-01-01 00:00:...|      view|   5809910|1602943681873052386|         null| grattol| 5.24|595414620|4adb70bb-edbd-498...|\n",
      "|2020-01-01 00:00:...|      view|   5812943|1487580012121948301|         null|kinetics| 3.97|595414640|c8c5205d-be43-4f1...|\n",
      "|2020-01-01 00:00:...|      view|   5798924|1783999068867920626|         null|  zinger| 3.97|595412617|46a5010f-bd69-4fb...|\n",
      "|2020-01-01 00:00:...|      view|   5793052|1487580005754995573|         null|    null| 4.92|420652863|546f6af3-a517-475...|\n",
      "|2020-01-01 00:00:...|      view|   5899926|2115334439910245200|         null|    null| 3.92|484071203|cff70ddf-529e-4b0...|\n",
      "+--------------------+----------+----------+-------------------+-------------+--------+-----+---------+--------------------+\n",
      "only showing top 5 rows\n",
      "\n",
      "root\n",
      " |-- event_time: string (nullable = true)\n",
      " |-- event_type: string (nullable = true)\n",
      " |-- product_id: integer (nullable = true)\n",
      " |-- category_id: string (nullable = true)\n",
      " |-- category_code: string (nullable = true)\n",
      " |-- brand: string (nullable = true)\n",
      " |-- price: float (nullable = true)\n",
      " |-- user_id: string (nullable = true)\n",
      " |-- user_session: string (nullable = true)\n",
      "\n",
      "+----------+----------+----------+-------------------+-------------+--------+-----+---------+--------------------+\n",
      "|event_time|event_type|product_id|        category_id|category_code|   brand|price|  user_id|        user_session|\n",
      "+----------+----------+----------+-------------------+-------------+--------+-----+---------+--------------------+\n",
      "|2020-01-01|      view|   5809910|1602943681873052386|         null| grattol| 5.24|595414620|4adb70bb-edbd-498...|\n",
      "|2020-01-01|      view|   5812943|1487580012121948301|         null|kinetics| 3.97|595414640|c8c5205d-be43-4f1...|\n",
      "|2020-01-01|      view|   5798924|1783999068867920626|         null|  zinger| 3.97|595412617|46a5010f-bd69-4fb...|\n",
      "|2020-01-01|      view|   5793052|1487580005754995573|         null|    null| 4.92|420652863|546f6af3-a517-475...|\n",
      "|2020-01-01|      view|   5899926|2115334439910245200|         null|    null| 3.92|484071203|cff70ddf-529e-4b0...|\n",
      "+----------+----------+----------+-------------------+-------------+--------+-----+---------+--------------------+\n",
      "only showing top 5 rows\n",
      "\n"
     ]
    }
   ],
   "source": [
    "#Ecommerce January 2020 Data\n",
    "ecom_jan_df=spark.read.load(\"file:///home/Shubham/Downloads/Project/Datasets/ecom_jan_2020.csv\",format=\"csv\",header=\"true\",escape=\"\\\"\")\n",
    "ecom_jan_df.printSchema()\n",
    "ecom_jan_df.show(5)\n",
    "\n",
    "from pyspark.sql.types import StringType, DateType, FloatType, IntegerType\n",
    "ecom_jan_df = ecom_jan_df.withColumn(\"product_id\", ecom_jan_df[\"product_id\"].cast(IntegerType())).withColumn(\"price\", ecom_jan_df[\"price\"].cast(FloatType()))\n",
    "ecom_jan_df.printSchema()\n",
    "\n",
    "from pyspark.sql.functions import *\n",
    "ecom_jan_df_1 = ecom_jan_df.withColumn(\"event_time\",to_date(\"event_time\"))\n",
    "ecom_jan_df_1.show(5)"
   ]
  },
  {
   "cell_type": "code",
   "execution_count": 9,
   "id": "b0c51e7a",
   "metadata": {},
   "outputs": [
    {
     "name": "stdout",
     "output_type": "stream",
     "text": [
      "root\n",
      " |-- event_time: string (nullable = true)\n",
      " |-- event_type: string (nullable = true)\n",
      " |-- product_id: string (nullable = true)\n",
      " |-- category_id: string (nullable = true)\n",
      " |-- category_code: string (nullable = true)\n",
      " |-- brand: string (nullable = true)\n",
      " |-- price: string (nullable = true)\n",
      " |-- user_id: string (nullable = true)\n",
      " |-- user_session: string (nullable = true)\n",
      "\n",
      "+--------------------+----------+----------+-------------------+-------------+------+-----+---------+--------------------+\n",
      "|          event_time|event_type|product_id|        category_id|category_code| brand|price|  user_id|        user_session|\n",
      "+--------------------+----------+----------+-------------------+-------------+------+-----+---------+--------------------+\n",
      "|2020-02-01 00:00:...|      cart|   5844305|1487580006317032337|         null|  null| 2.14|485174092|4be9643a-420b-4c6...|\n",
      "|2020-02-01 00:00:...|      view|   5769925|1487580013841613016|         null|kapous| 4.22|594621622|a88baf11-9cd0-436...|\n",
      "|2020-02-01 00:00:...|      view|   5817765|1487580008246412266|         null|zeitun|11.03|495404942|3a569c8d-d848-4f0...|\n",
      "|2020-02-01 00:00:...|      view|   5877033|1487580010100293687|         null|  milv| 3.49|564814969|7feb39e5-bb7b-4b2...|\n",
      "|2020-02-01 00:00:...|      cart|   5814871|1487580008112194531|         null|zinger| 2.54|551205603|106a7c7f-7fa1-446...|\n",
      "+--------------------+----------+----------+-------------------+-------------+------+-----+---------+--------------------+\n",
      "only showing top 5 rows\n",
      "\n",
      "root\n",
      " |-- event_time: string (nullable = true)\n",
      " |-- event_type: string (nullable = true)\n",
      " |-- product_id: integer (nullable = true)\n",
      " |-- category_id: string (nullable = true)\n",
      " |-- category_code: string (nullable = true)\n",
      " |-- brand: string (nullable = true)\n",
      " |-- price: float (nullable = true)\n",
      " |-- user_id: string (nullable = true)\n",
      " |-- user_session: string (nullable = true)\n",
      "\n",
      "+----------+----------+----------+-------------------+-------------+------+-----+---------+--------------------+\n",
      "|event_time|event_type|product_id|        category_id|category_code| brand|price|  user_id|        user_session|\n",
      "+----------+----------+----------+-------------------+-------------+------+-----+---------+--------------------+\n",
      "|2020-02-01|      cart|   5844305|1487580006317032337|         null|  null| 2.14|485174092|4be9643a-420b-4c6...|\n",
      "|2020-02-01|      view|   5769925|1487580013841613016|         null|kapous| 4.22|594621622|a88baf11-9cd0-436...|\n",
      "|2020-02-01|      view|   5817765|1487580008246412266|         null|zeitun|11.03|495404942|3a569c8d-d848-4f0...|\n",
      "|2020-02-01|      view|   5877033|1487580010100293687|         null|  milv| 3.49|564814969|7feb39e5-bb7b-4b2...|\n",
      "|2020-02-01|      cart|   5814871|1487580008112194531|         null|zinger| 2.54|551205603|106a7c7f-7fa1-446...|\n",
      "+----------+----------+----------+-------------------+-------------+------+-----+---------+--------------------+\n",
      "only showing top 5 rows\n",
      "\n"
     ]
    }
   ],
   "source": [
    "#Ecommerce February 2020 Data\n",
    "ecom_feb_20_df=spark.read.load(\"file:///home/Shubham/Downloads/Project/Datasets/ecom_feb_2020.csv\",format=\"csv\",header=\"true\",escape=\"\\\"\")\n",
    "ecom_feb_20_df.printSchema()\n",
    "ecom_feb_20_df.show(5)\n",
    "\n",
    "from pyspark.sql.types import StringType, DateType, FloatType, IntegerType\n",
    "ecom_feb_20_df = ecom_feb_20_df.withColumn(\"product_id\", ecom_feb_20_df[\"product_id\"].cast(IntegerType())).withColumn(\"price\", ecom_feb_20_df[\"price\"].cast(FloatType()))\n",
    "ecom_feb_20_df.printSchema()\n",
    "\n",
    "from pyspark.sql.functions import *\n",
    "ecom_feb_df_1 = ecom_feb_20_df.withColumn(\"event_time\",to_date(\"event_time\"))\n",
    "ecom_feb_df_1.show(5)"
   ]
  },
  {
   "cell_type": "code",
   "execution_count": 11,
   "id": "e4cbccb5",
   "metadata": {},
   "outputs": [],
   "source": [
    "ecom_dataframe = ecom_oct_df_1.union(ecom_nov_df_1).union(ecom_dec_df_1).union(ecom_jan_df_1).union(ecom_feb_df_1)"
   ]
  },
  {
   "cell_type": "code",
   "execution_count": 12,
   "id": "1edb1717",
   "metadata": {},
   "outputs": [
    {
     "name": "stdout",
     "output_type": "stream",
     "text": [
      "+----------+----------+----------+-------------------+-------------+------+-----+---------+--------------------+\n",
      "|event_time|event_type|product_id|        category_id|category_code| brand|price|  user_id|        user_session|\n",
      "+----------+----------+----------+-------------------+-------------+------+-----+---------+--------------------+\n",
      "|2019-10-01|      cart|   5773203|1487580005134238553|         null|runail| 2.62|463240011|26dd6e6e-4dac-477...|\n",
      "|2019-10-01|      cart|   5773353|1487580005134238553|         null|runail| 2.62|463240011|26dd6e6e-4dac-477...|\n",
      "|2019-10-01|      cart|   5881589|2151191071051219817|         null|lovely|13.48|429681830|49e8d843-adf3-428...|\n",
      "|2019-10-01|      cart|   5723490|1487580005134238553|         null|runail| 2.62|463240011|26dd6e6e-4dac-477...|\n",
      "|2019-10-01|      cart|   5881449|1487580013522845895|         null|lovely| 0.56|429681830|49e8d843-adf3-428...|\n",
      "+----------+----------+----------+-------------------+-------------+------+-----+---------+--------------------+\n",
      "only showing top 5 rows\n",
      "\n"
     ]
    }
   ],
   "source": [
    "ecom_dataframe.show(5)"
   ]
  },
  {
   "cell_type": "code",
   "execution_count": null,
   "id": "5a247f13",
   "metadata": {},
   "outputs": [],
   "source": [
    "ecom_dataframe.select(col('event_time')).unique()"
   ]
  },
  {
   "cell_type": "code",
   "execution_count": 13,
   "id": "6de27240",
   "metadata": {
    "scrolled": true
   },
   "outputs": [
    {
     "name": "stderr",
     "output_type": "stream",
     "text": [
      "                                                                                \r"
     ]
    },
    {
     "data": {
      "text/plain": [
       "20692840"
      ]
     },
     "execution_count": 13,
     "metadata": {},
     "output_type": "execute_result"
    }
   ],
   "source": [
    "ecom_dataframe.count()"
   ]
  },
  {
   "cell_type": "code",
   "execution_count": 14,
   "id": "73b8df6f",
   "metadata": {},
   "outputs": [
    {
     "name": "stdout",
     "output_type": "stream",
     "text": [
      "root\n",
      " |-- Date: string (nullable = true)\n",
      " |-- Country: string (nullable = true)\n",
      " |-- Confirmed: string (nullable = true)\n",
      " |-- Recovered: string (nullable = true)\n",
      " |-- Deaths: string (nullable = true)\n",
      "\n",
      "+----------+-----------+---------+---------+------+\n",
      "|      Date|    Country|Confirmed|Recovered|Deaths|\n",
      "+----------+-----------+---------+---------+------+\n",
      "|2020-01-22|Afghanistan|        0|        0|     0|\n",
      "|2020-01-23|Afghanistan|        0|        0|     0|\n",
      "|2020-01-24|Afghanistan|        0|        0|     0|\n",
      "|2020-01-25|Afghanistan|        0|        0|     0|\n",
      "|2020-01-26|Afghanistan|        0|        0|     0|\n",
      "+----------+-----------+---------+---------+------+\n",
      "only showing top 5 rows\n",
      "\n",
      "root\n",
      " |-- Date: date (nullable = true)\n",
      " |-- Country: string (nullable = true)\n",
      " |-- Confirmed: integer (nullable = true)\n",
      " |-- Recovered: integer (nullable = true)\n",
      " |-- Deaths: integer (nullable = true)\n",
      "\n",
      "+----------+-----------+---------+---------+------+\n",
      "|      Date|    Country|Confirmed|Recovered|Deaths|\n",
      "+----------+-----------+---------+---------+------+\n",
      "|2020-01-22|Afghanistan|        0|        0|     0|\n",
      "|2020-01-23|Afghanistan|        0|        0|     0|\n",
      "|2020-01-24|Afghanistan|        0|        0|     0|\n",
      "|2020-01-25|Afghanistan|        0|        0|     0|\n",
      "|2020-01-26|Afghanistan|        0|        0|     0|\n",
      "+----------+-----------+---------+---------+------+\n",
      "only showing top 5 rows\n",
      "\n"
     ]
    }
   ],
   "source": [
    "covid_df=spark.read.load(\"file:///home/Shubham/Downloads/Project/Datasets/covid_world_Data.csv\",format=\"csv\",header=\"true\",escape=\"\\\"\")\n",
    "covid_df.printSchema()\n",
    "covid_df.show(5)\n",
    "\n",
    "from pyspark.sql.types import StringType, DateType, FloatType, IntegerType\n",
    "from pyspark.sql.functions import *\n",
    "covid_df_1 = covid_df.withColumn(\"Date\",to_date(\"Date\"))\n",
    "\n",
    "from pyspark.sql.types import StringType, DateType, FloatType, IntegerType\n",
    "covid_df_1 = covid_df_1.withColumn(\"Confirmed\", covid_df_1[\"Confirmed\"].cast(IntegerType())).withColumn(\"Recovered\", covid_df_1[\"Recovered\"].cast(IntegerType())).withColumn(\"Deaths\",covid_df_1[\"Deaths\"].cast(IntegerType()))\n",
    "covid_df_1.printSchema()\n",
    "covid_df.show(5)"
   ]
  },
  {
   "cell_type": "code",
   "execution_count": 15,
   "id": "fd8be48c",
   "metadata": {},
   "outputs": [
    {
     "data": {
      "text/plain": [
       "161568"
      ]
     },
     "execution_count": 15,
     "metadata": {},
     "output_type": "execute_result"
    }
   ],
   "source": [
    "covid_df_1.count()"
   ]
  },
  {
   "cell_type": "code",
   "execution_count": 16,
   "id": "1cc41106",
   "metadata": {},
   "outputs": [
    {
     "name": "stderr",
     "output_type": "stream",
     "text": [
      "\r\n",
      "[Stage 26:>                                                         (0 + 1) / 1]\r"
     ]
    },
    {
     "name": "stdout",
     "output_type": "stream",
     "text": [
      "+----------+-----------+---------+---------+------+\n",
      "|      Date|    Country|Confirmed|Recovered|Deaths|\n",
      "+----------+-----------+---------+---------+------+\n",
      "|2020-01-22|    Albania|        0|        0|     0|\n",
      "|2020-01-22|    Algeria|        0|        0|     0|\n",
      "|2020-01-22|Afghanistan|        0|        0|     0|\n",
      "|2020-01-22| Antarctica|        0|        0|     0|\n",
      "|2020-01-22|    Andorra|        0|        0|     0|\n",
      "+----------+-----------+---------+---------+------+\n",
      "only showing top 5 rows\n",
      "\n"
     ]
    },
    {
     "name": "stderr",
     "output_type": "stream",
     "text": [
      "\r\n",
      "                                                                                \r"
     ]
    }
   ],
   "source": [
    "#Looking for covid cases in January and Febrauary 2020 and loading it to different dataframe\n",
    "covid_df_2 = covid_df_1.where(year(covid_df_1.Date) == 2020).where(month(covid_df_1.Date) >= 1).where(month(covid_df_1.Date) <= 2).sort(covid_df_1.Date, ascending=True)\n",
    "\n",
    "covid_df_2.show(5)"
   ]
  },
  {
   "cell_type": "code",
   "execution_count": 17,
   "id": "28408022",
   "metadata": {},
   "outputs": [
    {
     "name": "stdout",
     "output_type": "stream",
     "text": [
      "+----------+------------+---------+---------+------+\n",
      "|      Date|     Country|Confirmed|Recovered|Deaths|\n",
      "+----------+------------+---------+---------+------+\n",
      "|2020-01-22|       China|      548|       28|    17|\n",
      "|2020-01-22|Korea, South|        1|        0|     0|\n",
      "|2020-01-22|       Japan|        2|        0|     0|\n",
      "|2020-01-22|     Taiwan*|        1|        0|     0|\n",
      "|2020-01-22|    Thailand|        4|        2|     0|\n",
      "+----------+------------+---------+---------+------+\n",
      "only showing top 5 rows\n",
      "\n"
     ]
    }
   ],
   "source": [
    "covid_df_2.filter(covid_df_1.Confirmed != 0).sort(covid_df_1.Date, ascending=True).show(5)"
   ]
  },
  {
   "cell_type": "code",
   "execution_count": 18,
   "id": "4b040f21",
   "metadata": {},
   "outputs": [
    {
     "name": "stderr",
     "output_type": "stream",
     "text": [
      "\r\n",
      "[Stage 28:>                                                         (0 + 1) / 1]\r"
     ]
    },
    {
     "name": "stdout",
     "output_type": "stream",
     "text": [
      "+----------+--------------+\n",
      "|      Date|sum(Confirmed)|\n",
      "+----------+--------------+\n",
      "|2020-01-22|           557|\n",
      "|2020-01-23|           657|\n",
      "|2020-01-24|           944|\n",
      "|2020-01-25|          1437|\n",
      "|2020-01-26|          2120|\n",
      "|2020-01-27|          2929|\n",
      "|2020-01-28|          5580|\n",
      "|2020-01-29|          6169|\n",
      "|2020-01-30|          8237|\n",
      "|2020-01-31|          9927|\n",
      "|2020-02-01|         12038|\n",
      "|2020-02-02|         16787|\n",
      "|2020-02-03|         19887|\n",
      "|2020-02-04|         23899|\n",
      "|2020-02-05|         27644|\n",
      "|2020-02-06|         30806|\n",
      "|2020-02-07|         34400|\n",
      "|2020-02-08|         37131|\n",
      "|2020-02-09|         40162|\n",
      "|2020-02-10|         42771|\n",
      "+----------+--------------+\n",
      "only showing top 20 rows\n",
      "\n"
     ]
    },
    {
     "name": "stderr",
     "output_type": "stream",
     "text": [
      "\r\n",
      "                                                                                \r"
     ]
    }
   ],
   "source": [
    "covid_df = covid_df_2.select(col('Date'),col('Confirmed')).groupby('Date').sum('Confirmed').alias('Total_cases').sort(['Date'],ascending=True)\n",
    "covid_df.show()"
   ]
  },
  {
   "cell_type": "code",
   "execution_count": 19,
   "id": "10d4f0a0",
   "metadata": {
    "scrolled": true
   },
   "outputs": [
    {
     "name": "stdout",
     "output_type": "stream",
     "text": [
      "root\n",
      " |-- event_time: date (nullable = true)\n",
      " |-- event_type: string (nullable = true)\n",
      " |-- product_id: integer (nullable = true)\n",
      " |-- category_id: string (nullable = true)\n",
      " |-- category_code: string (nullable = true)\n",
      " |-- brand: string (nullable = true)\n",
      " |-- price: float (nullable = true)\n",
      " |-- user_id: string (nullable = true)\n",
      " |-- user_session: string (nullable = true)\n",
      "\n"
     ]
    }
   ],
   "source": [
    "ecom_dataframe.printSchema()"
   ]
  },
  {
   "cell_type": "code",
   "execution_count": 81,
   "id": "a5353ada",
   "metadata": {},
   "outputs": [],
   "source": [
    "#Finding October 2019 Sales\n",
    "oct_sales = ecom_dataframe.where(year(ecom_dataframe.event_time) == 2019).where(month(ecom_dataframe.event_time) == 10).where(ecom_dataframe.event_type == 'purchase').groupby('event_time').agg(count('event_time').alias('oct_count')).sort(['event_time'],ascending=True)\n"
   ]
  },
  {
   "cell_type": "code",
   "execution_count": 82,
   "id": "1a2d71cc",
   "metadata": {},
   "outputs": [],
   "source": [
    "#Finding November 2019 Sales\n",
    "nov_sales = ecom_dataframe.where(year(ecom_dataframe.event_time) == 2019).where(month(ecom_dataframe.event_time) == 11).where(ecom_dataframe.event_type == 'purchase').groupby('event_time').agg(count('event_time').alias('nov_count')).sort(['event_time'],ascending=True)\n"
   ]
  },
  {
   "cell_type": "code",
   "execution_count": 83,
   "id": "812eb6e0",
   "metadata": {},
   "outputs": [],
   "source": [
    "#Finding December 2019 Sales\n",
    "dec_sales = ecom_dataframe.where(year(ecom_dataframe.event_time) == 2019).where(month(ecom_dataframe.event_time) == 12).where(ecom_dataframe.event_type == 'purchase').groupby('event_time').agg(count('event_time').alias('dec_count')).sort(['event_time'],ascending=True)\n"
   ]
  },
  {
   "cell_type": "code",
   "execution_count": 84,
   "id": "c149bd9a",
   "metadata": {},
   "outputs": [],
   "source": [
    "#Finding January 2020 Sales\n",
    "jan_sales = ecom_dataframe.where(year(ecom_dataframe.event_time) == 2020).where(month(ecom_dataframe.event_time) == 1).where(ecom_dataframe.event_type == 'purchase').groupby('event_time').agg(count('event_time').alias('jan_count')).sort(['event_time'],ascending=True)\n"
   ]
  },
  {
   "cell_type": "code",
   "execution_count": 85,
   "id": "e392773a",
   "metadata": {},
   "outputs": [],
   "source": [
    "#Finding February 2020 Sales\n",
    "feb_sales = ecom_dataframe.where(year(ecom_dataframe.event_time) == 2020).where(month(ecom_dataframe.event_time) == 2).where(ecom_dataframe.event_type == 'purchase').groupby('event_time').agg(count('event_time').alias('feb_count')).sort(['event_time'],ascending=True)\n"
   ]
  },
  {
   "cell_type": "code",
   "execution_count": 87,
   "id": "6028badb",
   "metadata": {},
   "outputs": [
    {
     "name": "stderr",
     "output_type": "stream",
     "text": [
      "[Stage 157:====================================================>  (20 + 1) / 21]\r"
     ]
    },
    {
     "name": "stdout",
     "output_type": "stream",
     "text": [
      "+-----------------+-----------+\n",
      "|month(event_time)|Total_Sales|\n",
      "+-----------------+-----------+\n",
      "|               10|     245624|\n",
      "|               11|     322417|\n",
      "|               12|     213176|\n",
      "|                1|     263797|\n",
      "|                2|     241993|\n",
      "+-----------------+-----------+\n",
      "\n"
     ]
    },
    {
     "name": "stderr",
     "output_type": "stream",
     "text": [
      "\r\n",
      "                                                                                \r"
     ]
    }
   ],
   "source": [
    "#Total Sales Each Month\n",
    "ecom_dataframe.where(ecom_dataframe.event_type=='purchase').groupby(month(ecom_dataframe.event_time)).agg(count('event_type').alias('Total_Sales')).show()\n"
   ]
  },
  {
   "cell_type": "code",
   "execution_count": 63,
   "id": "8d6816ed",
   "metadata": {},
   "outputs": [],
   "source": [
    "oct1 = oct_sales.withColumn(\"Day\",date_format(col('event_time'),\"d\"))\n",
    "nov1 = nov_sales.withColumn(\"Day\",date_format(col('event_time'),\"d\"))\n",
    "dec1 = dec_sales.withColumn(\"Day\",date_format(col('event_time'),\"d\"))\n",
    "jan1 = jan_sales.withColumn(\"Day\",date_format(col('event_time'),\"d\"))\n",
    "feb1 = feb_sales.withColumn(\"Day\",date_format(col('event_time'),\"d\"))\n",
    "oct = oct1.withColumn(\"Day\", oct1[\"Day\"].cast(IntegerType()))\n",
    "nov = nov1.withColumn(\"Day\", nov1[\"Day\"].cast(IntegerType()))\n",
    "dec = dec1.withColumn(\"Day\", dec1[\"Day\"].cast(IntegerType()))\n",
    "jan = jan1.withColumn(\"Day\", jan1[\"Day\"].cast(IntegerType()))\n",
    "feb = feb1.withColumn(\"Day\", feb1[\"Day\"].cast(IntegerType()))"
   ]
  },
  {
   "cell_type": "code",
   "execution_count": 80,
   "id": "81198b55",
   "metadata": {},
   "outputs": [
    {
     "name": "stderr",
     "output_type": "stream",
     "text": [
      "                                                                                \r"
     ]
    },
    {
     "name": "stdout",
     "output_type": "stream",
     "text": [
      "+---+---------+---------+---------+---------+\n",
      "|Day|oct_count|nov_count|jan_count|feb_count|\n",
      "+---+---------+---------+---------+---------+\n",
      "|  1|     8476|     7761|     3269|     7435|\n",
      "|  2|     9100|     7422|     4875|     8715|\n",
      "|  3|     8865|     7798|     6031|     9998|\n",
      "|  4|     7562|     8053|     6602|     8937|\n",
      "|  5|     5940|     8887|     7227|     9503|\n",
      "|  6|     7265|     8710|     6368|     9209|\n",
      "|  7|     9376|    16489|     7564|     7880|\n",
      "|  8|     8604|    16628|     7602|     7216|\n",
      "|  9|     8464|     5442|     8774|     8642|\n",
      "| 10|     8117|     6208|     8575|     8981|\n",
      "| 11|     6922|     8921|     7470|     9440|\n",
      "| 12|     6431|     8184|     8147|     9563|\n",
      "| 13|     7088|     8434|    10138|     9088|\n",
      "| 14|     8004|     7632|    10316|     6947|\n",
      "| 15|     8299|     6860|     9962|     6035|\n",
      "| 16|     9096|     7029|     9354|     7404|\n",
      "| 17|     9236|     7937|     9265|     9037|\n",
      "| 18|     7920|     9593|     6197|     8691|\n",
      "| 19|     6064|     9243|     8168|     8934|\n",
      "| 20|     6836|     8873|     9014|     8382|\n",
      "| 21|     8872|    16123|     9165|     7557|\n",
      "| 22|     8643|    22780|     9088|     6189|\n",
      "| 23|     8714|    15483|     8700|     6231|\n",
      "| 24|     8779|    20464|     8779|     8024|\n",
      "| 25|     7024|     6990|     6766|     9718|\n",
      "| 26|     5295|     8040|     8182|     9126|\n",
      "| 27|     7816|     8209|    18314|     9726|\n",
      "| 28|     8366|    16974|    17352|     8328|\n",
      "| 29|     8472|    17992|     7605|     7057|\n",
      "| 30|     7935|    13258|     7582|     null|\n",
      "| 31|     8043|     null|     7346|     null|\n",
      "+---+---------+---------+---------+---------+\n",
      "\n"
     ]
    }
   ],
   "source": [
    "oct.join(nov,oct.Day == nov.Day,\"left\").join(dec, oct.Day == dec.Day,\"left\").join(jan, oct.Day == jan.Day,\"left\").join(feb, oct.Day == feb.Day,\"left\").select(oct.Day,oct.oct_count,nov.nov_count,jan.jan_count,feb.feb_count).sort([oct.Day],Ascending=True).show(31)\n",
    "                                                  "
   ]
  }
 ],
 "metadata": {
  "kernelspec": {
   "display_name": "Python 3 (ipykernel)",
   "language": "python",
   "name": "python3"
  },
  "language_info": {
   "codemirror_mode": {
    "name": "ipython",
    "version": 3
   },
   "file_extension": ".py",
   "mimetype": "text/x-python",
   "name": "python",
   "nbconvert_exporter": "python",
   "pygments_lexer": "ipython3",
   "version": "3.10.6"
  }
 },
 "nbformat": 4,
 "nbformat_minor": 5
}
